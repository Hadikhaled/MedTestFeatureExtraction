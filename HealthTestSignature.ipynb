{
 "cells": [
  {
   "cell_type": "markdown",
   "metadata": {},
   "source": [
    "* Import Libraries"
   ]
  },
  {
   "cell_type": "code",
   "execution_count": 1,
   "metadata": {},
   "outputs": [],
   "source": [
    "import pytesseract\n",
    "from PIL import Image\n",
    "import re\n",
    "import pandas as pd\n",
    "import cv2"
   ]
  },
  {
   "cell_type": "markdown",
   "metadata": {},
   "source": [
    "* Extract Text from an Image using pytesseract\n",
    "\n",
    "<pre>\n",
    "To demonstrate text extraction from an image, we'll load an image,\n",
    " convert it to grayscale, we'll convert the grayscale image to black and white before performing OCR.\n",
    "</pre>\n",
    "\n",
    "\n"
   ]
  },
  {
   "cell_type": "code",
   "execution_count": null,
   "metadata": {},
   "outputs": [],
   "source": [
    "# Load image\n",
    "img = cv2.imread('Load path of img ')\n",
    "\n",
    "# Convert the image to grayscale\n",
    "gray = cv2.cvtColor(img, cv2.COLOR_BGR2GRAY)\n",
    "\n",
    "# Convert the grayscale image to black and white\n",
    "(thresh, black_and_white) = cv2.threshold(gray, 127, 255, cv2.THRESH_BINARY)\n",
    "\n",
    "# Perform OCR on the black and white image\n",
    "text = pytesseract.image_to_string(black_and_white)\n",
    "\n",
    " # Split extracted text into words\n",
    "txt=text.lower()\n",
    "words = txt.split()"
   ]
  },
  {
   "cell_type": "markdown",
   "metadata": {},
   "source": [
    "* Dictionary containing patterns for extracting feature values \n",
    "\n",
    "<pre>\n",
    "for extracting values related to Complete Blood Count (CBC) and Liver Function Test (LFT) features:\n",
    "</pre>\n",
    "\n",
    "\n"
   ]
  },
  {
   "cell_type": "code",
   "execution_count": null,
   "metadata": {},
   "outputs": [],
   "source": [
    "cbc_feature = {\n",
    "    'Hemoglobin (HGB)': ['hgb', 'haemoglobin', 'hemoglobin'],\n",
    "    'Mean Corpuscular Volume (MCV)': ['mcv', 'mean corpuscular volume', 'm.c.v'],\n",
    "    'Mean Corpuscular Hemoglobin (MCH)': ['mch', 'mean corpuscular hemoglobin', 'm.c.h'],\n",
    "    'Mean Corpuscular Hemoglobin Concentration (MCHC)': ['mchc', 'mean corpuscular hemoglobin concentration', 'm.c.h.c'],\n",
    "}\n",
    "\n",
    "lft_feature = {\n",
    "    'Alanine Aminotransferase (ALT)': ['alt', 'sgpt'],\n",
    "    'Aspartate Aminotransferase (AST)': ['ast', 'sgot'],\n",
    "    'Alkaline Phosphatase (ALP)': ['alp'],\n",
    "    \n",
    "    'Total Bilirubin': ['tbil', 'tb'],\n",
    "    'Direct Bilirubin': ['dbil', 'db'],\n",
    "    'Albumin': ['alb'],\n",
    "    'Prothrombin Time (PT)': ['pt'],\n",
    "    'A/G Ratio': ['ag ratio'],\n",
    "    'Total Proteins': ['tp', 'total protein']\n",
    "}"
   ]
  },
  {
   "cell_type": "markdown",
   "metadata": {},
   "source": [
    "* Here's the regenerated code specifically tailored for extracting values \n",
    "  related to Complete Blood Count (CBC) and Liver Function Test (LFT) features:\n",
    "\n",
    "  "
   ]
  },
  {
   "cell_type": "code",
   "execution_count": null,
   "metadata": {},
   "outputs": [],
   "source": [
    "def extract_ValuesOf_features(text, feature_keywords):\n",
    "   \n",
    "    feature_values = []\n",
    "    # Define a regex pattern to match numbers\n",
    "    number_pattern ='[0-9]+\\.[0-9]+?'\n",
    "    for fature_name ,alternative_name in feature_keywords :\n",
    "        for alt in alternative_name:\n",
    "            indices=[i for i,word in enumerate(text) if alt==word]\n",
    "        for index in indices:\n",
    "            current_index=index+1\n",
    "            while current_index <len(text):\n",
    "                match=re.search(number_pattern,text[current_index])\n",
    "\n",
    "                if match:\n",
    "                    try:\n",
    "                        value = float(match)\n",
    "                        feature_values.append(value)\n",
    "                        break\n",
    "                    except ValueError:\n",
    "                                \n",
    "                                pass\n",
    "                current_index += 1\n",
    "    return feature_values"
   ]
  },
  {
   "cell_type": "markdown",
   "metadata": {},
   "source": [
    "* Detect medical test types "
   ]
  },
  {
   "cell_type": "code",
   "execution_count": null,
   "metadata": {},
   "outputs": [],
   "source": [
    "def detect_medical_test(list_text):\n",
    "    # Define the keywords to look for in each feature\n",
    "    cbc_keywords = ['cbc', 'complete', 'blood ', 'hematology ']\n",
    "    lft_keywords = ['lft', 'liver', 'function ', 'biochemistry ']\n",
    "\n",
    "    for feature in list_text:\n",
    "        if any(cbc_item in list_text.lower() for cbc_item in cbc_keywords):\n",
    "            print(\"CBC test detected\")\n",
    "            \n",
    "            cbc= extract_ValuesOf_features(list_text, cbc_feature) \n",
    "            return cbc\n",
    "            \n",
    "        elif any(lft_item in list_text.lower() for lft_item in lft_keywords):\n",
    "            print(\"LFT test detected\")\n",
    "            \n",
    "            lft= extract_ValuesOf_features(list_text, lft_feature)\n",
    "            return lft\n",
    "\n",
    "    # No matching test type was found\n",
    "    return \"This type of test is not supported\"\n"
   ]
  }
 ],
 "metadata": {
  "kernelspec": {
   "display_name": "Python 3",
   "language": "python",
   "name": "python3"
  },
  "language_info": {
   "codemirror_mode": {
    "name": "ipython",
    "version": 3
   },
   "file_extension": ".py",
   "mimetype": "text/x-python",
   "name": "python",
   "nbconvert_exporter": "python",
   "pygments_lexer": "ipython3",
   "version": "3.8.10"
  },
  "orig_nbformat": 4
 },
 "nbformat": 4,
 "nbformat_minor": 2
}
